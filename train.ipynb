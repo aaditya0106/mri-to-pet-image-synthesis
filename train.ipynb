{
 "cells": [
  {
   "cell_type": "code",
   "execution_count": 1,
   "metadata": {},
   "outputs": [],
   "source": [
    "from loss import JDAMLoss\n",
    "from model.sde import VESDE\n",
    "from model.ddpm import DDPM\n",
    "from data.data import load_data\n",
    "import tensorflow as tf\n",
    "import matplotlib.pyplot as plt\n",
    "import numpy as np\n",
    "\n",
    "np.random.seed(0)\n",
    "tf.random.set_seed(0)"
   ]
  },
  {
   "cell_type": "code",
   "execution_count": 2,
   "metadata": {},
   "outputs": [],
   "source": [
    "# unet = DDPM(activation=tf.keras.activations.swish)\n",
    "# sde = VESDE(\n",
    "#     pet_score_func=lambda x, t: unet(x, t),\n",
    "#     mri_score_func=lambda x, t: unet(x, t)\n",
    "# )"
   ]
  },
  {
   "cell_type": "code",
   "execution_count": 3,
   "metadata": {},
   "outputs": [],
   "source": [
    "# lk = JDAMLoss(sde)"
   ]
  },
  {
   "cell_type": "code",
   "execution_count": 4,
   "metadata": {},
   "outputs": [],
   "source": [
    "# data = load_data()"
   ]
  },
  {
   "cell_type": "code",
   "execution_count": 5,
   "metadata": {},
   "outputs": [],
   "source": [
    "# mri, pet = data[:1, :, :, :1], data[:1, :, :, 1:2]\n",
    "# mri = tf.cast(mri, dtype=tf.float32)\n",
    "# pet = tf.cast(pet, dtype=tf.float32)"
   ]
  },
  {
   "cell_type": "code",
   "execution_count": 6,
   "metadata": {},
   "outputs": [],
   "source": [
    "# losses = []\n",
    "# for i in range(1, 11):\n",
    "#     t = tf.convert_to_tensor(i/10, dtype=tf.float32)\n",
    "#     l = lk.compute_loss_2(unet, pet, mri, t)\n",
    "#     losses.append((t, l))\n",
    "#     print(\"t: \", t.numpy(), \"loss: \", l.numpy())"
   ]
  },
  {
   "cell_type": "code",
   "execution_count": 7,
   "metadata": {},
   "outputs": [],
   "source": [
    "# ts, ls = zip(*losses)\n",
    "# plt.plot(ts, ls, marker='o')"
   ]
  },
  {
   "cell_type": "code",
   "execution_count": 8,
   "metadata": {},
   "outputs": [],
   "source": [
    "def plot_images(pet_noisy):\n",
    "    fig, axes = plt.subplots(1, 2, figsize=(10, 5))\n",
    "    axes[0].imshow(pet[0, :, :, 0], cmap='gray')\n",
    "    axes[0].set_title(\"Original PET\")\n",
    "    axes[0].axis(\"off\")\n",
    "    \n",
    "    axes[1].imshow(pet_noisy[0, :, :, 0], cmap='gray')\n",
    "    axes[1].set_title(\"Noisy PET\")\n",
    "    axes[1].axis(\"off\")\n",
    "    \n",
    "    plt.show()"
   ]
  },
  {
   "cell_type": "code",
   "execution_count": 9,
   "metadata": {},
   "outputs": [],
   "source": [
    "# _, noise = sde.marginal_probability(pet, t)\n",
    "# z = tf.random.normal(tf.shape(pet))\n",
    "# pet_noisy_2 = pet + noise * z\n",
    "# plot_images(pet_noisy_2)"
   ]
  },
  {
   "cell_type": "code",
   "execution_count": 10,
   "metadata": {},
   "outputs": [],
   "source": [
    "import train"
   ]
  },
  {
   "cell_type": "code",
   "execution_count": 11,
   "metadata": {},
   "outputs": [
    {
     "name": "stderr",
     "output_type": "stream",
     "text": [
      "Epoch 1/100: 100%|██████████| 1/1 [00:07<00:00,  7.46s/batch, loss=tf.Tensor(0.9842547, shape=(), dtype=float32)]2025-03-09 00:31:09.493566: W tensorflow/core/framework/local_rendezvous.cc:404] Local rendezvous is aborting with status: OUT_OF_RANGE: End of sequence\n",
      "Epoch 1/100: 100%|██████████| 1/1 [00:07<00:00,  7.47s/batch, loss=tf.Tensor(0.9842547, shape=(), dtype=float32)]\n"
     ]
    },
    {
     "name": "stdout",
     "output_type": "stream",
     "text": [
      "Epoch 1/100, Mean Loss: 0.98425, Time: 7.46s\n"
     ]
    },
    {
     "name": "stderr",
     "output_type": "stream",
     "text": [
      "Epoch 2/100: 100%|██████████| 1/1 [00:06<00:00,  6.32s/batch, loss=tf.Tensor(0.9888439, shape=(), dtype=float32)]2025-03-09 00:31:16.921554: W tensorflow/core/framework/local_rendezvous.cc:404] Local rendezvous is aborting with status: OUT_OF_RANGE: End of sequence\n",
      "Epoch 2/100: 100%|██████████| 1/1 [00:06<00:00,  6.32s/batch, loss=tf.Tensor(0.9888439, shape=(), dtype=float32)]\n"
     ]
    },
    {
     "name": "stdout",
     "output_type": "stream",
     "text": [
      "Epoch 2/100, Mean Loss: 0.98884, Time: 6.32s\n"
     ]
    },
    {
     "name": "stderr",
     "output_type": "stream",
     "text": [
      "Epoch 3/100: 100%|██████████| 1/1 [00:06<00:00,  6.13s/batch, loss=tf.Tensor(0.99069357, shape=(), dtype=float32)]2025-03-09 00:31:23.871346: W tensorflow/core/framework/local_rendezvous.cc:404] Local rendezvous is aborting with status: OUT_OF_RANGE: End of sequence\n",
      "Epoch 3/100: 100%|██████████| 1/1 [00:06<00:00,  6.13s/batch, loss=tf.Tensor(0.99069357, shape=(), dtype=float32)]\n"
     ]
    },
    {
     "name": "stdout",
     "output_type": "stream",
     "text": [
      "Epoch 3/100, Mean Loss: 0.99069, Time: 6.13s\n"
     ]
    },
    {
     "name": "stderr",
     "output_type": "stream",
     "text": [
      "Epoch 4/100: 100%|██████████| 1/1 [00:06<00:00,  6.25s/batch, loss=tf.Tensor(1.0108427, shape=(), dtype=float32)]2025-03-09 00:31:31.104247: W tensorflow/core/framework/local_rendezvous.cc:404] Local rendezvous is aborting with status: OUT_OF_RANGE: End of sequence\n",
      "Epoch 4/100: 100%|██████████| 1/1 [00:06<00:00,  6.26s/batch, loss=tf.Tensor(1.0108427, shape=(), dtype=float32)]\n"
     ]
    },
    {
     "name": "stdout",
     "output_type": "stream",
     "text": [
      "Epoch 4/100, Mean Loss: 1.01084, Time: 6.26s\n"
     ]
    },
    {
     "name": "stderr",
     "output_type": "stream",
     "text": [
      "Epoch 5/100: 100%|██████████| 1/1 [00:05<00:00,  5.84s/batch, loss=tf.Tensor(1.0117006, shape=(), dtype=float32)]2025-03-09 00:31:37.931888: W tensorflow/core/framework/local_rendezvous.cc:404] Local rendezvous is aborting with status: OUT_OF_RANGE: End of sequence\n",
      "Epoch 5/100: 100%|██████████| 1/1 [00:05<00:00,  5.84s/batch, loss=tf.Tensor(1.0117006, shape=(), dtype=float32)]\n"
     ]
    },
    {
     "name": "stdout",
     "output_type": "stream",
     "text": [
      "Epoch 5/100, Mean Loss: 1.01170, Time: 5.84s\n"
     ]
    },
    {
     "name": "stderr",
     "output_type": "stream",
     "text": [
      "Epoch 6/100: 100%|██████████| 1/1 [00:06<00:00,  6.04s/batch, loss=tf.Tensor(1.0125977, shape=(), dtype=float32)]2025-03-09 00:31:44.939502: W tensorflow/core/framework/local_rendezvous.cc:404] Local rendezvous is aborting with status: OUT_OF_RANGE: End of sequence\n",
      "Epoch 6/100: 100%|██████████| 1/1 [00:06<00:00,  6.04s/batch, loss=tf.Tensor(1.0125977, shape=(), dtype=float32)]\n"
     ]
    },
    {
     "name": "stdout",
     "output_type": "stream",
     "text": [
      "Epoch 6/100, Mean Loss: 1.01260, Time: 6.04s\n"
     ]
    },
    {
     "name": "stderr",
     "output_type": "stream",
     "text": [
      "Epoch 7/100: 100%|██████████| 1/1 [00:05<00:00,  5.72s/batch, loss=tf.Tensor(1.0185759, shape=(), dtype=float32)]2025-03-09 00:31:51.514916: W tensorflow/core/framework/local_rendezvous.cc:404] Local rendezvous is aborting with status: OUT_OF_RANGE: End of sequence\n",
      "Epoch 7/100: 100%|██████████| 1/1 [00:05<00:00,  5.73s/batch, loss=tf.Tensor(1.0185759, shape=(), dtype=float32)]\n"
     ]
    },
    {
     "name": "stdout",
     "output_type": "stream",
     "text": [
      "Epoch 7/100, Mean Loss: 1.01858, Time: 5.73s\n"
     ]
    },
    {
     "name": "stderr",
     "output_type": "stream",
     "text": [
      "Epoch 8/100: 100%|██████████| 1/1 [00:05<00:00,  5.90s/batch, loss=tf.Tensor(1.0076529, shape=(), dtype=float32)]2025-03-09 00:31:58.525293: W tensorflow/core/framework/local_rendezvous.cc:404] Local rendezvous is aborting with status: OUT_OF_RANGE: End of sequence\n",
      "Epoch 8/100: 100%|██████████| 1/1 [00:05<00:00,  5.90s/batch, loss=tf.Tensor(1.0076529, shape=(), dtype=float32)]\n"
     ]
    },
    {
     "name": "stdout",
     "output_type": "stream",
     "text": [
      "Epoch 8/100, Mean Loss: 1.00765, Time: 5.90s\n"
     ]
    },
    {
     "name": "stderr",
     "output_type": "stream",
     "text": [
      "Epoch 9/100: 100%|██████████| 1/1 [00:05<00:00,  5.59s/batch, loss=tf.Tensor(0.98270464, shape=(), dtype=float32)]2025-03-09 00:32:04.965803: W tensorflow/core/framework/local_rendezvous.cc:404] Local rendezvous is aborting with status: OUT_OF_RANGE: End of sequence\n",
      "Epoch 9/100: 100%|██████████| 1/1 [00:05<00:00,  5.59s/batch, loss=tf.Tensor(0.98270464, shape=(), dtype=float32)]\n"
     ]
    },
    {
     "name": "stdout",
     "output_type": "stream",
     "text": [
      "Epoch 9/100, Mean Loss: 0.98270, Time: 5.59s\n"
     ]
    },
    {
     "name": "stderr",
     "output_type": "stream",
     "text": [
      "Epoch 10/100: 100%|██████████| 1/1 [00:05<00:00,  5.64s/batch, loss=tf.Tensor(0.9667401, shape=(), dtype=float32)]2025-03-09 00:32:11.569960: W tensorflow/core/framework/local_rendezvous.cc:404] Local rendezvous is aborting with status: OUT_OF_RANGE: End of sequence\n",
      "Epoch 10/100: 100%|██████████| 1/1 [00:05<00:00,  5.65s/batch, loss=tf.Tensor(0.9667401, shape=(), dtype=float32)]\n"
     ]
    },
    {
     "name": "stdout",
     "output_type": "stream",
     "text": [
      "Epoch 10/100, Mean Loss: 0.96674, Time: 5.65s\n"
     ]
    },
    {
     "name": "stderr",
     "output_type": "stream",
     "text": [
      "Epoch 11/100: 100%|██████████| 1/1 [00:05<00:00,  5.88s/batch, loss=tf.Tensor(0.990405, shape=(), dtype=float32)]2025-03-09 00:32:18.441905: W tensorflow/core/framework/local_rendezvous.cc:404] Local rendezvous is aborting with status: OUT_OF_RANGE: End of sequence\n",
      "Epoch 11/100: 100%|██████████| 1/1 [00:05<00:00,  5.89s/batch, loss=tf.Tensor(0.990405, shape=(), dtype=float32)]\n"
     ]
    },
    {
     "name": "stdout",
     "output_type": "stream",
     "text": [
      "Epoch 11/100, Mean Loss: 0.99041, Time: 5.89s\n"
     ]
    },
    {
     "name": "stderr",
     "output_type": "stream",
     "text": [
      "Epoch 12/100: 100%|██████████| 1/1 [00:05<00:00,  5.75s/batch, loss=tf.Tensor(1.0145767, shape=(), dtype=float32)]2025-03-09 00:32:25.156553: W tensorflow/core/framework/local_rendezvous.cc:404] Local rendezvous is aborting with status: OUT_OF_RANGE: End of sequence\n",
      "Epoch 12/100: 100%|██████████| 1/1 [00:05<00:00,  5.75s/batch, loss=tf.Tensor(1.0145767, shape=(), dtype=float32)]\n"
     ]
    },
    {
     "name": "stdout",
     "output_type": "stream",
     "text": [
      "Epoch 12/100, Mean Loss: 1.01458, Time: 5.75s\n"
     ]
    },
    {
     "name": "stderr",
     "output_type": "stream",
     "text": [
      "Epoch 13/100: 100%|██████████| 1/1 [00:05<00:00,  5.67s/batch, loss=tf.Tensor(0.9903564, shape=(), dtype=float32)]2025-03-09 00:32:31.678597: W tensorflow/core/framework/local_rendezvous.cc:404] Local rendezvous is aborting with status: OUT_OF_RANGE: End of sequence\n",
      "Epoch 13/100: 100%|██████████| 1/1 [00:05<00:00,  5.68s/batch, loss=tf.Tensor(0.9903564, shape=(), dtype=float32)]\n"
     ]
    },
    {
     "name": "stdout",
     "output_type": "stream",
     "text": [
      "Epoch 13/100, Mean Loss: 0.99036, Time: 5.68s\n"
     ]
    },
    {
     "name": "stderr",
     "output_type": "stream",
     "text": [
      "Epoch 14/100: 100%|██████████| 1/1 [00:05<00:00,  5.95s/batch, loss=tf.Tensor(0.9942142, shape=(), dtype=float32)]2025-03-09 00:32:38.605246: W tensorflow/core/framework/local_rendezvous.cc:404] Local rendezvous is aborting with status: OUT_OF_RANGE: End of sequence\n",
      "Epoch 14/100: 100%|██████████| 1/1 [00:05<00:00,  5.96s/batch, loss=tf.Tensor(0.9942142, shape=(), dtype=float32)]\n"
     ]
    },
    {
     "name": "stdout",
     "output_type": "stream",
     "text": [
      "Epoch 14/100, Mean Loss: 0.99421, Time: 5.96s\n"
     ]
    },
    {
     "name": "stderr",
     "output_type": "stream",
     "text": [
      "Epoch 15/100: 100%|██████████| 1/1 [00:05<00:00,  5.71s/batch, loss=tf.Tensor(1.0078931, shape=(), dtype=float32)]2025-03-09 00:32:45.170317: W tensorflow/core/framework/local_rendezvous.cc:404] Local rendezvous is aborting with status: OUT_OF_RANGE: End of sequence\n",
      "Epoch 15/100: 100%|██████████| 1/1 [00:05<00:00,  5.71s/batch, loss=tf.Tensor(1.0078931, shape=(), dtype=float32)]\n"
     ]
    },
    {
     "name": "stdout",
     "output_type": "stream",
     "text": [
      "Epoch 15/100, Mean Loss: 1.00789, Time: 5.71s\n"
     ]
    },
    {
     "name": "stderr",
     "output_type": "stream",
     "text": [
      "Epoch 16/100: 100%|██████████| 1/1 [00:05<00:00,  5.77s/batch, loss=tf.Tensor(1.0093086, shape=(), dtype=float32)]2025-03-09 00:32:51.781544: W tensorflow/core/framework/local_rendezvous.cc:404] Local rendezvous is aborting with status: OUT_OF_RANGE: End of sequence\n",
      "Epoch 16/100: 100%|██████████| 1/1 [00:05<00:00,  5.78s/batch, loss=tf.Tensor(1.0093086, shape=(), dtype=float32)]\n"
     ]
    },
    {
     "name": "stdout",
     "output_type": "stream",
     "text": [
      "Epoch 16/100, Mean Loss: 1.00931, Time: 5.78s\n"
     ]
    },
    {
     "name": "stderr",
     "output_type": "stream",
     "text": [
      "Epoch 17/100: 100%|██████████| 1/1 [00:05<00:00,  5.81s/batch, loss=tf.Tensor(1.008199, shape=(), dtype=float32)]2025-03-09 00:32:58.420154: W tensorflow/core/framework/local_rendezvous.cc:404] Local rendezvous is aborting with status: OUT_OF_RANGE: End of sequence\n",
      "Epoch 17/100: 100%|██████████| 1/1 [00:05<00:00,  5.81s/batch, loss=tf.Tensor(1.008199, shape=(), dtype=float32)]\n"
     ]
    },
    {
     "name": "stdout",
     "output_type": "stream",
     "text": [
      "Epoch 17/100, Mean Loss: 1.00820, Time: 5.81s\n"
     ]
    },
    {
     "name": "stderr",
     "output_type": "stream",
     "text": [
      "Epoch 18/100: 100%|██████████| 1/1 [00:05<00:00,  5.80s/batch, loss=tf.Tensor(0.97981465, shape=(), dtype=float32)]2025-03-09 00:33:05.064176: W tensorflow/core/framework/local_rendezvous.cc:404] Local rendezvous is aborting with status: OUT_OF_RANGE: End of sequence\n",
      "Epoch 18/100: 100%|██████████| 1/1 [00:05<00:00,  5.81s/batch, loss=tf.Tensor(0.97981465, shape=(), dtype=float32)]\n"
     ]
    },
    {
     "name": "stdout",
     "output_type": "stream",
     "text": [
      "Epoch 18/100, Mean Loss: 0.97981, Time: 5.81s\n"
     ]
    },
    {
     "name": "stderr",
     "output_type": "stream",
     "text": [
      "Epoch 19/100: 100%|██████████| 1/1 [00:05<00:00,  5.63s/batch, loss=tf.Tensor(1.0053618, shape=(), dtype=float32)]2025-03-09 00:33:11.536580: W tensorflow/core/framework/local_rendezvous.cc:404] Local rendezvous is aborting with status: OUT_OF_RANGE: End of sequence\n",
      "Epoch 19/100: 100%|██████████| 1/1 [00:05<00:00,  5.63s/batch, loss=tf.Tensor(1.0053618, shape=(), dtype=float32)]\n"
     ]
    },
    {
     "name": "stdout",
     "output_type": "stream",
     "text": [
      "Epoch 19/100, Mean Loss: 1.00536, Time: 5.63s\n"
     ]
    },
    {
     "name": "stderr",
     "output_type": "stream",
     "text": [
      "Epoch 20/100: 100%|██████████| 1/1 [00:05<00:00,  5.83s/batch, loss=tf.Tensor(1.0028667, shape=(), dtype=float32)]2025-03-09 00:33:18.354109: W tensorflow/core/framework/local_rendezvous.cc:404] Local rendezvous is aborting with status: OUT_OF_RANGE: End of sequence\n",
      "Epoch 20/100: 100%|██████████| 1/1 [00:05<00:00,  5.83s/batch, loss=tf.Tensor(1.0028667, shape=(), dtype=float32)]\n"
     ]
    },
    {
     "name": "stdout",
     "output_type": "stream",
     "text": [
      "Epoch 20/100, Mean Loss: 1.00287, Time: 5.83s\n"
     ]
    },
    {
     "name": "stderr",
     "output_type": "stream",
     "text": [
      "Epoch 21/100: 100%|██████████| 1/1 [00:05<00:00,  5.58s/batch, loss=tf.Tensor(1.026893, shape=(), dtype=float32)]2025-03-09 00:33:24.778376: W tensorflow/core/framework/local_rendezvous.cc:404] Local rendezvous is aborting with status: OUT_OF_RANGE: End of sequence\n",
      "Epoch 21/100: 100%|██████████| 1/1 [00:05<00:00,  5.58s/batch, loss=tf.Tensor(1.026893, shape=(), dtype=float32)]\n"
     ]
    },
    {
     "name": "stdout",
     "output_type": "stream",
     "text": [
      "Epoch 21/100, Mean Loss: 1.02689, Time: 5.58s\n"
     ]
    },
    {
     "name": "stderr",
     "output_type": "stream",
     "text": [
      "Epoch 22/100: 100%|██████████| 1/1 [00:05<00:00,  5.85s/batch, loss=tf.Tensor(0.991749, shape=(), dtype=float32)]2025-03-09 00:33:31.460850: W tensorflow/core/framework/local_rendezvous.cc:404] Local rendezvous is aborting with status: OUT_OF_RANGE: End of sequence\n",
      "Epoch 22/100: 100%|██████████| 1/1 [00:05<00:00,  5.85s/batch, loss=tf.Tensor(0.991749, shape=(), dtype=float32)]\n"
     ]
    },
    {
     "name": "stdout",
     "output_type": "stream",
     "text": [
      "Epoch 22/100, Mean Loss: 0.99175, Time: 5.85s\n"
     ]
    },
    {
     "name": "stderr",
     "output_type": "stream",
     "text": [
      "Epoch 23/100: 100%|██████████| 1/1 [00:05<00:00,  5.67s/batch, loss=tf.Tensor(0.9978426, shape=(), dtype=float32)]2025-03-09 00:33:37.969511: W tensorflow/core/framework/local_rendezvous.cc:404] Local rendezvous is aborting with status: OUT_OF_RANGE: End of sequence\n",
      "Epoch 23/100: 100%|██████████| 1/1 [00:05<00:00,  5.67s/batch, loss=tf.Tensor(0.9978426, shape=(), dtype=float32)]\n"
     ]
    },
    {
     "name": "stdout",
     "output_type": "stream",
     "text": [
      "Epoch 23/100, Mean Loss: 0.99784, Time: 5.68s\n"
     ]
    },
    {
     "name": "stderr",
     "output_type": "stream",
     "text": [
      "Epoch 24/100: 100%|██████████| 1/1 [00:05<00:00,  5.80s/batch, loss=tf.Tensor(1.0280674, shape=(), dtype=float32)]2025-03-09 00:33:44.605579: W tensorflow/core/framework/local_rendezvous.cc:404] Local rendezvous is aborting with status: OUT_OF_RANGE: End of sequence\n",
      "Epoch 24/100: 100%|██████████| 1/1 [00:05<00:00,  5.80s/batch, loss=tf.Tensor(1.0280674, shape=(), dtype=float32)]\n"
     ]
    },
    {
     "name": "stdout",
     "output_type": "stream",
     "text": [
      "Epoch 24/100, Mean Loss: 1.02807, Time: 5.80s\n"
     ]
    },
    {
     "name": "stderr",
     "output_type": "stream",
     "text": [
      "Epoch 25/100: 100%|██████████| 1/1 [00:05<00:00,  5.56s/batch, loss=tf.Tensor(0.99164397, shape=(), dtype=float32)]2025-03-09 00:33:50.997490: W tensorflow/core/framework/local_rendezvous.cc:404] Local rendezvous is aborting with status: OUT_OF_RANGE: End of sequence\n",
      "Epoch 25/100: 100%|██████████| 1/1 [00:05<00:00,  5.56s/batch, loss=tf.Tensor(0.99164397, shape=(), dtype=float32)]\n"
     ]
    },
    {
     "name": "stdout",
     "output_type": "stream",
     "text": [
      "Epoch 25/100, Mean Loss: 0.99164, Time: 5.56s\n"
     ]
    },
    {
     "name": "stderr",
     "output_type": "stream",
     "text": [
      "Epoch 26/100: 100%|██████████| 1/1 [00:05<00:00,  5.92s/batch, loss=tf.Tensor(1.0000551, shape=(), dtype=float32)]2025-03-09 00:33:57.748888: W tensorflow/core/framework/local_rendezvous.cc:404] Local rendezvous is aborting with status: OUT_OF_RANGE: End of sequence\n",
      "Epoch 26/100: 100%|██████████| 1/1 [00:05<00:00,  5.92s/batch, loss=tf.Tensor(1.0000551, shape=(), dtype=float32)]\n"
     ]
    },
    {
     "name": "stdout",
     "output_type": "stream",
     "text": [
      "Epoch 26/100, Mean Loss: 1.00006, Time: 5.93s\n"
     ]
    },
    {
     "name": "stderr",
     "output_type": "stream",
     "text": [
      "Epoch 27/100: 100%|██████████| 1/1 [00:05<00:00,  5.67s/batch, loss=tf.Tensor(1.0029031, shape=(), dtype=float32)]2025-03-09 00:34:04.375086: W tensorflow/core/framework/local_rendezvous.cc:404] Local rendezvous is aborting with status: OUT_OF_RANGE: End of sequence\n",
      "Epoch 27/100: 100%|██████████| 1/1 [00:05<00:00,  5.67s/batch, loss=tf.Tensor(1.0029031, shape=(), dtype=float32)]\n"
     ]
    },
    {
     "name": "stdout",
     "output_type": "stream",
     "text": [
      "Epoch 27/100, Mean Loss: 1.00290, Time: 5.67s\n"
     ]
    },
    {
     "name": "stderr",
     "output_type": "stream",
     "text": [
      "Epoch 28/100: 100%|██████████| 1/1 [00:05<00:00,  5.62s/batch, loss=tf.Tensor(1.0300164, shape=(), dtype=float32)]2025-03-09 00:34:10.876592: W tensorflow/core/framework/local_rendezvous.cc:404] Local rendezvous is aborting with status: OUT_OF_RANGE: End of sequence\n",
      "Epoch 28/100: 100%|██████████| 1/1 [00:05<00:00,  5.62s/batch, loss=tf.Tensor(1.0300164, shape=(), dtype=float32)]\n"
     ]
    },
    {
     "name": "stdout",
     "output_type": "stream",
     "text": [
      "Epoch 28/100, Mean Loss: 1.03002, Time: 5.62s\n"
     ]
    },
    {
     "name": "stderr",
     "output_type": "stream",
     "text": [
      "Epoch 29/100: 100%|██████████| 1/1 [00:05<00:00,  5.82s/batch, loss=tf.Tensor(1.0016854, shape=(), dtype=float32)]2025-03-09 00:34:17.647048: W tensorflow/core/framework/local_rendezvous.cc:404] Local rendezvous is aborting with status: OUT_OF_RANGE: End of sequence\n",
      "Epoch 29/100: 100%|██████████| 1/1 [00:05<00:00,  5.82s/batch, loss=tf.Tensor(1.0016854, shape=(), dtype=float32)]\n"
     ]
    },
    {
     "name": "stdout",
     "output_type": "stream",
     "text": [
      "Epoch 29/100, Mean Loss: 1.00169, Time: 5.82s\n"
     ]
    },
    {
     "name": "stderr",
     "output_type": "stream",
     "text": [
      "Epoch 30/100: 100%|██████████| 1/1 [00:05<00:00,  5.77s/batch, loss=tf.Tensor(1.0322709, shape=(), dtype=float32)]2025-03-09 00:34:24.255430: W tensorflow/core/framework/local_rendezvous.cc:404] Local rendezvous is aborting with status: OUT_OF_RANGE: End of sequence\n",
      "Epoch 30/100: 100%|██████████| 1/1 [00:05<00:00,  5.77s/batch, loss=tf.Tensor(1.0322709, shape=(), dtype=float32)]\n"
     ]
    },
    {
     "name": "stdout",
     "output_type": "stream",
     "text": [
      "Epoch 30/100, Mean Loss: 1.03227, Time: 5.77s\n"
     ]
    },
    {
     "name": "stderr",
     "output_type": "stream",
     "text": [
      "Epoch 31/100: 100%|██████████| 1/1 [00:05<00:00,  5.74s/batch, loss=tf.Tensor(0.99598277, shape=(), dtype=float32)]2025-03-09 00:34:30.969838: W tensorflow/core/framework/local_rendezvous.cc:404] Local rendezvous is aborting with status: OUT_OF_RANGE: End of sequence\n",
      "Epoch 31/100: 100%|██████████| 1/1 [00:05<00:00,  5.74s/batch, loss=tf.Tensor(0.99598277, shape=(), dtype=float32)]\n"
     ]
    },
    {
     "name": "stdout",
     "output_type": "stream",
     "text": [
      "Epoch 31/100, Mean Loss: 0.99598, Time: 5.74s\n"
     ]
    },
    {
     "name": "stderr",
     "output_type": "stream",
     "text": [
      "Epoch 32/100: 100%|██████████| 1/1 [00:05<00:00,  5.61s/batch, loss=tf.Tensor(0.9952403, shape=(), dtype=float32)]2025-03-09 00:34:37.418681: W tensorflow/core/framework/local_rendezvous.cc:404] Local rendezvous is aborting with status: OUT_OF_RANGE: End of sequence\n",
      "Epoch 32/100: 100%|██████████| 1/1 [00:05<00:00,  5.61s/batch, loss=tf.Tensor(0.9952403, shape=(), dtype=float32)]\n"
     ]
    },
    {
     "name": "stdout",
     "output_type": "stream",
     "text": [
      "Epoch 32/100, Mean Loss: 0.99524, Time: 5.61s\n"
     ]
    },
    {
     "name": "stderr",
     "output_type": "stream",
     "text": [
      "Epoch 33/100: 100%|██████████| 1/1 [00:05<00:00,  5.72s/batch, loss=tf.Tensor(0.9932811, shape=(), dtype=float32)]2025-03-09 00:34:44.089208: W tensorflow/core/framework/local_rendezvous.cc:404] Local rendezvous is aborting with status: OUT_OF_RANGE: End of sequence\n",
      "Epoch 33/100: 100%|██████████| 1/1 [00:05<00:00,  5.72s/batch, loss=tf.Tensor(0.9932811, shape=(), dtype=float32)]\n"
     ]
    },
    {
     "name": "stdout",
     "output_type": "stream",
     "text": [
      "Epoch 33/100, Mean Loss: 0.99328, Time: 5.72s\n"
     ]
    },
    {
     "name": "stderr",
     "output_type": "stream",
     "text": [
      "Epoch 34/100: 100%|██████████| 1/1 [00:05<00:00,  5.56s/batch, loss=tf.Tensor(0.99191064, shape=(), dtype=float32)]2025-03-09 00:34:50.488323: W tensorflow/core/framework/local_rendezvous.cc:404] Local rendezvous is aborting with status: OUT_OF_RANGE: End of sequence\n",
      "Epoch 34/100: 100%|██████████| 1/1 [00:05<00:00,  5.56s/batch, loss=tf.Tensor(0.99191064, shape=(), dtype=float32)]\n"
     ]
    },
    {
     "name": "stdout",
     "output_type": "stream",
     "text": [
      "Epoch 34/100, Mean Loss: 0.99191, Time: 5.57s\n"
     ]
    },
    {
     "name": "stderr",
     "output_type": "stream",
     "text": [
      "Epoch 35/100: 100%|██████████| 1/1 [00:05<00:00,  5.84s/batch, loss=tf.Tensor(1.0136738, shape=(), dtype=float32)]2025-03-09 00:34:57.281204: W tensorflow/core/framework/local_rendezvous.cc:404] Local rendezvous is aborting with status: OUT_OF_RANGE: End of sequence\n",
      "Epoch 35/100: 100%|██████████| 1/1 [00:05<00:00,  5.84s/batch, loss=tf.Tensor(1.0136738, shape=(), dtype=float32)]\n"
     ]
    },
    {
     "name": "stdout",
     "output_type": "stream",
     "text": [
      "Epoch 35/100, Mean Loss: 1.01367, Time: 5.84s\n"
     ]
    },
    {
     "name": "stderr",
     "output_type": "stream",
     "text": [
      "Epoch 36/100: 100%|██████████| 1/1 [00:06<00:00,  6.12s/batch, loss=tf.Tensor(1.0100946, shape=(), dtype=float32)]2025-03-09 00:35:04.236926: W tensorflow/core/framework/local_rendezvous.cc:404] Local rendezvous is aborting with status: OUT_OF_RANGE: End of sequence\n",
      "Epoch 36/100: 100%|██████████| 1/1 [00:06<00:00,  6.12s/batch, loss=tf.Tensor(1.0100946, shape=(), dtype=float32)]\n"
     ]
    },
    {
     "name": "stdout",
     "output_type": "stream",
     "text": [
      "Epoch 36/100, Mean Loss: 1.01009, Time: 6.12s\n"
     ]
    },
    {
     "name": "stderr",
     "output_type": "stream",
     "text": [
      "Epoch 37/100: 100%|██████████| 1/1 [00:05<00:00,  5.90s/batch, loss=tf.Tensor(0.9958202, shape=(), dtype=float32)]2025-03-09 00:35:10.987906: W tensorflow/core/framework/local_rendezvous.cc:404] Local rendezvous is aborting with status: OUT_OF_RANGE: End of sequence\n",
      "Epoch 37/100: 100%|██████████| 1/1 [00:05<00:00,  5.90s/batch, loss=tf.Tensor(0.9958202, shape=(), dtype=float32)]\n"
     ]
    },
    {
     "name": "stdout",
     "output_type": "stream",
     "text": [
      "Epoch 37/100, Mean Loss: 0.99582, Time: 5.90s\n"
     ]
    },
    {
     "name": "stderr",
     "output_type": "stream",
     "text": [
      "Epoch 38/100: 100%|██████████| 1/1 [00:05<00:00,  5.67s/batch, loss=tf.Tensor(0.98965055, shape=(), dtype=float32)]2025-03-09 00:35:17.496727: W tensorflow/core/framework/local_rendezvous.cc:404] Local rendezvous is aborting with status: OUT_OF_RANGE: End of sequence\n",
      "Epoch 38/100: 100%|██████████| 1/1 [00:05<00:00,  5.67s/batch, loss=tf.Tensor(0.98965055, shape=(), dtype=float32)]\n"
     ]
    },
    {
     "name": "stdout",
     "output_type": "stream",
     "text": [
      "Epoch 38/100, Mean Loss: 0.98965, Time: 5.67s\n"
     ]
    },
    {
     "name": "stderr",
     "output_type": "stream",
     "text": [
      "Epoch 39/100: 100%|██████████| 1/1 [00:05<00:00,  5.66s/batch, loss=tf.Tensor(0.9982228, shape=(), dtype=float32)]2025-03-09 00:35:24.292008: W tensorflow/core/framework/local_rendezvous.cc:404] Local rendezvous is aborting with status: OUT_OF_RANGE: End of sequence\n",
      "Epoch 39/100: 100%|██████████| 1/1 [00:05<00:00,  5.66s/batch, loss=tf.Tensor(0.9982228, shape=(), dtype=float32)]\n"
     ]
    },
    {
     "name": "stdout",
     "output_type": "stream",
     "text": [
      "Epoch 39/100, Mean Loss: 0.99822, Time: 5.66s\n"
     ]
    },
    {
     "name": "stderr",
     "output_type": "stream",
     "text": [
      "Epoch 40/100: 100%|██████████| 1/1 [00:05<00:00,  5.63s/batch, loss=tf.Tensor(1.0093877, shape=(), dtype=float32)]2025-03-09 00:35:30.760845: W tensorflow/core/framework/local_rendezvous.cc:404] Local rendezvous is aborting with status: OUT_OF_RANGE: End of sequence\n",
      "Epoch 40/100: 100%|██████████| 1/1 [00:05<00:00,  5.64s/batch, loss=tf.Tensor(1.0093877, shape=(), dtype=float32)]\n"
     ]
    },
    {
     "name": "stdout",
     "output_type": "stream",
     "text": [
      "Epoch 40/100, Mean Loss: 1.00939, Time: 5.64s\n"
     ]
    },
    {
     "name": "stderr",
     "output_type": "stream",
     "text": [
      "Epoch 41/100: 100%|██████████| 1/1 [00:05<00:00,  5.63s/batch, loss=tf.Tensor(1.0288007, shape=(), dtype=float32)]2025-03-09 00:35:37.360123: W tensorflow/core/framework/local_rendezvous.cc:404] Local rendezvous is aborting with status: OUT_OF_RANGE: End of sequence\n",
      "Epoch 41/100: 100%|██████████| 1/1 [00:05<00:00,  5.63s/batch, loss=tf.Tensor(1.0288007, shape=(), dtype=float32)]\n"
     ]
    },
    {
     "name": "stdout",
     "output_type": "stream",
     "text": [
      "Epoch 41/100, Mean Loss: 1.02880, Time: 5.63s\n"
     ]
    },
    {
     "name": "stderr",
     "output_type": "stream",
     "text": [
      "Epoch 42/100: 100%|██████████| 1/1 [00:05<00:00,  5.66s/batch, loss=tf.Tensor(0.99793446, shape=(), dtype=float32)]2025-03-09 00:35:44.015386: W tensorflow/core/framework/local_rendezvous.cc:404] Local rendezvous is aborting with status: OUT_OF_RANGE: End of sequence\n",
      "Epoch 42/100: 100%|██████████| 1/1 [00:05<00:00,  5.66s/batch, loss=tf.Tensor(0.99793446, shape=(), dtype=float32)]\n"
     ]
    },
    {
     "name": "stdout",
     "output_type": "stream",
     "text": [
      "Epoch 42/100, Mean Loss: 0.99793, Time: 5.66s\n"
     ]
    },
    {
     "name": "stderr",
     "output_type": "stream",
     "text": [
      "Epoch 43/100: 100%|██████████| 1/1 [00:05<00:00,  5.85s/batch, loss=tf.Tensor(1.0076209, shape=(), dtype=float32)]2025-03-09 00:35:50.820572: W tensorflow/core/framework/local_rendezvous.cc:404] Local rendezvous is aborting with status: OUT_OF_RANGE: End of sequence\n",
      "Epoch 43/100: 100%|██████████| 1/1 [00:05<00:00,  5.85s/batch, loss=tf.Tensor(1.0076209, shape=(), dtype=float32)]\n"
     ]
    },
    {
     "name": "stdout",
     "output_type": "stream",
     "text": [
      "Epoch 43/100, Mean Loss: 1.00762, Time: 5.85s\n"
     ]
    },
    {
     "name": "stderr",
     "output_type": "stream",
     "text": [
      "Epoch 44/100: 100%|██████████| 1/1 [00:05<00:00,  5.58s/batch, loss=tf.Tensor(0.9790733, shape=(), dtype=float32)]2025-03-09 00:35:57.231653: W tensorflow/core/framework/local_rendezvous.cc:404] Local rendezvous is aborting with status: OUT_OF_RANGE: End of sequence\n",
      "Epoch 44/100: 100%|██████████| 1/1 [00:05<00:00,  5.58s/batch, loss=tf.Tensor(0.9790733, shape=(), dtype=float32)]\n"
     ]
    },
    {
     "name": "stdout",
     "output_type": "stream",
     "text": [
      "Epoch 44/100, Mean Loss: 0.97907, Time: 5.58s\n"
     ]
    },
    {
     "name": "stderr",
     "output_type": "stream",
     "text": [
      "Epoch 45/100: 100%|██████████| 1/1 [00:05<00:00,  5.70s/batch, loss=tf.Tensor(0.98081154, shape=(), dtype=float32)]2025-03-09 00:36:04.011130: W tensorflow/core/framework/local_rendezvous.cc:404] Local rendezvous is aborting with status: OUT_OF_RANGE: End of sequence\n",
      "Epoch 45/100: 100%|██████████| 1/1 [00:05<00:00,  5.70s/batch, loss=tf.Tensor(0.98081154, shape=(), dtype=float32)]\n"
     ]
    },
    {
     "name": "stdout",
     "output_type": "stream",
     "text": [
      "Epoch 45/100, Mean Loss: 0.98081, Time: 5.70s\n"
     ]
    },
    {
     "name": "stderr",
     "output_type": "stream",
     "text": [
      "Epoch 46/100: 100%|██████████| 1/1 [00:05<00:00,  5.54s/batch, loss=tf.Tensor(1.0123647, shape=(), dtype=float32)]2025-03-09 00:36:10.400963: W tensorflow/core/framework/local_rendezvous.cc:404] Local rendezvous is aborting with status: OUT_OF_RANGE: End of sequence\n",
      "Epoch 46/100: 100%|██████████| 1/1 [00:05<00:00,  5.54s/batch, loss=tf.Tensor(1.0123647, shape=(), dtype=float32)]\n"
     ]
    },
    {
     "name": "stdout",
     "output_type": "stream",
     "text": [
      "Epoch 46/100, Mean Loss: 1.01236, Time: 5.54s\n"
     ]
    },
    {
     "name": "stderr",
     "output_type": "stream",
     "text": [
      "Epoch 47/100: 100%|██████████| 1/1 [00:05<00:00,  5.76s/batch, loss=tf.Tensor(1.0122392, shape=(), dtype=float32)]2025-03-09 00:36:17.114096: W tensorflow/core/framework/local_rendezvous.cc:404] Local rendezvous is aborting with status: OUT_OF_RANGE: End of sequence\n",
      "Epoch 47/100: 100%|██████████| 1/1 [00:05<00:00,  5.77s/batch, loss=tf.Tensor(1.0122392, shape=(), dtype=float32)]\n"
     ]
    },
    {
     "name": "stdout",
     "output_type": "stream",
     "text": [
      "Epoch 47/100, Mean Loss: 1.01224, Time: 5.77s\n"
     ]
    },
    {
     "name": "stderr",
     "output_type": "stream",
     "text": [
      "Epoch 48/100: 100%|██████████| 1/1 [00:05<00:00,  5.66s/batch, loss=tf.Tensor(1.012263, shape=(), dtype=float32)]2025-03-09 00:36:23.621853: W tensorflow/core/framework/local_rendezvous.cc:404] Local rendezvous is aborting with status: OUT_OF_RANGE: End of sequence\n",
      "Epoch 48/100: 100%|██████████| 1/1 [00:05<00:00,  5.67s/batch, loss=tf.Tensor(1.012263, shape=(), dtype=float32)]\n"
     ]
    },
    {
     "name": "stdout",
     "output_type": "stream",
     "text": [
      "Epoch 48/100, Mean Loss: 1.01226, Time: 5.67s\n"
     ]
    },
    {
     "name": "stderr",
     "output_type": "stream",
     "text": [
      "Epoch 49/100: 100%|██████████| 1/1 [00:05<00:00,  5.73s/batch, loss=tf.Tensor(0.9810258, shape=(), dtype=float32)]2025-03-09 00:36:30.307340: W tensorflow/core/framework/local_rendezvous.cc:404] Local rendezvous is aborting with status: OUT_OF_RANGE: End of sequence\n",
      "Epoch 49/100: 100%|██████████| 1/1 [00:05<00:00,  5.73s/batch, loss=tf.Tensor(0.9810258, shape=(), dtype=float32)]\n"
     ]
    },
    {
     "name": "stdout",
     "output_type": "stream",
     "text": [
      "Epoch 49/100, Mean Loss: 0.98103, Time: 5.73s\n"
     ]
    },
    {
     "name": "stderr",
     "output_type": "stream",
     "text": [
      "Epoch 50/100: 100%|██████████| 1/1 [00:05<00:00,  5.55s/batch, loss=tf.Tensor(1.0041232, shape=(), dtype=float32)]2025-03-09 00:36:36.702533: W tensorflow/core/framework/local_rendezvous.cc:404] Local rendezvous is aborting with status: OUT_OF_RANGE: End of sequence\n",
      "Epoch 50/100: 100%|██████████| 1/1 [00:05<00:00,  5.55s/batch, loss=tf.Tensor(1.0041232, shape=(), dtype=float32)]\n"
     ]
    },
    {
     "name": "stdout",
     "output_type": "stream",
     "text": [
      "Epoch 50/100, Mean Loss: 1.00412, Time: 5.55s\n"
     ]
    },
    {
     "name": "stderr",
     "output_type": "stream",
     "text": [
      "Epoch 51/100: 100%|██████████| 1/1 [00:05<00:00,  5.98s/batch, loss=tf.Tensor(1.0136896, shape=(), dtype=float32)]2025-03-09 00:36:43.640586: W tensorflow/core/framework/local_rendezvous.cc:404] Local rendezvous is aborting with status: OUT_OF_RANGE: End of sequence\n",
      "Epoch 51/100: 100%|██████████| 1/1 [00:05<00:00,  5.98s/batch, loss=tf.Tensor(1.0136896, shape=(), dtype=float32)]\n"
     ]
    },
    {
     "name": "stdout",
     "output_type": "stream",
     "text": [
      "Epoch 51/100, Mean Loss: 1.01369, Time: 5.98s\n"
     ]
    },
    {
     "name": "stderr",
     "output_type": "stream",
     "text": [
      "Epoch 52/100: 100%|██████████| 1/1 [00:06<00:00,  6.80s/batch, loss=tf.Tensor(0.9932576, shape=(), dtype=float32)]2025-03-09 00:36:51.280774: W tensorflow/core/framework/local_rendezvous.cc:404] Local rendezvous is aborting with status: OUT_OF_RANGE: End of sequence\n",
      "Epoch 52/100: 100%|██████████| 1/1 [00:06<00:00,  6.80s/batch, loss=tf.Tensor(0.9932576, shape=(), dtype=float32)]\n"
     ]
    },
    {
     "name": "stdout",
     "output_type": "stream",
     "text": [
      "Epoch 52/100, Mean Loss: 0.99326, Time: 6.80s\n"
     ]
    },
    {
     "name": "stderr",
     "output_type": "stream",
     "text": [
      "Epoch 53/100: 100%|██████████| 1/1 [04:36<00:00, 276.93s/batch, loss=tf.Tensor(1.0200245, shape=(), dtype=float32)]2025-03-09 00:41:29.204696: W tensorflow/core/framework/local_rendezvous.cc:404] Local rendezvous is aborting with status: OUT_OF_RANGE: End of sequence\n",
      "Epoch 53/100: 100%|██████████| 1/1 [04:36<00:00, 276.93s/batch, loss=tf.Tensor(1.0200245, shape=(), dtype=float32)]\n"
     ]
    },
    {
     "name": "stdout",
     "output_type": "stream",
     "text": [
      "Epoch 53/100, Mean Loss: 1.02002, Time: 276.93s\n"
     ]
    },
    {
     "name": "stderr",
     "output_type": "stream",
     "text": [
      "Epoch 54/100: 100%|██████████| 1/1 [00:06<00:00,  6.50s/batch, loss=tf.Tensor(0.99289477, shape=(), dtype=float32)]2025-03-09 00:41:36.856591: W tensorflow/core/framework/local_rendezvous.cc:404] Local rendezvous is aborting with status: OUT_OF_RANGE: End of sequence\n",
      "Epoch 54/100: 100%|██████████| 1/1 [00:06<00:00,  6.50s/batch, loss=tf.Tensor(0.99289477, shape=(), dtype=float32)]\n"
     ]
    },
    {
     "name": "stdout",
     "output_type": "stream",
     "text": [
      "Epoch 54/100, Mean Loss: 0.99289, Time: 6.50s\n"
     ]
    },
    {
     "name": "stderr",
     "output_type": "stream",
     "text": [
      "Epoch 55/100: 100%|██████████| 1/1 [00:05<00:00,  5.96s/batch, loss=tf.Tensor(0.9809328, shape=(), dtype=float32)]2025-03-09 00:41:43.661379: W tensorflow/core/framework/local_rendezvous.cc:404] Local rendezvous is aborting with status: OUT_OF_RANGE: End of sequence\n",
      "Epoch 55/100: 100%|██████████| 1/1 [00:05<00:00,  5.96s/batch, loss=tf.Tensor(0.9809328, shape=(), dtype=float32)]\n"
     ]
    },
    {
     "name": "stdout",
     "output_type": "stream",
     "text": [
      "Epoch 55/100, Mean Loss: 0.98093, Time: 5.96s\n"
     ]
    },
    {
     "name": "stderr",
     "output_type": "stream",
     "text": [
      "Epoch 56/100: 100%|██████████| 1/1 [00:05<00:00,  5.86s/batch, loss=tf.Tensor(1.0116038, shape=(), dtype=float32)]2025-03-09 00:41:50.364289: W tensorflow/core/framework/local_rendezvous.cc:404] Local rendezvous is aborting with status: OUT_OF_RANGE: End of sequence\n",
      "Epoch 56/100: 100%|██████████| 1/1 [00:05<00:00,  5.86s/batch, loss=tf.Tensor(1.0116038, shape=(), dtype=float32)]\n"
     ]
    },
    {
     "name": "stdout",
     "output_type": "stream",
     "text": [
      "Epoch 56/100, Mean Loss: 1.01160, Time: 5.86s\n"
     ]
    },
    {
     "name": "stderr",
     "output_type": "stream",
     "text": [
      "Epoch 57/100: 100%|██████████| 1/1 [00:05<00:00,  5.67s/batch, loss=tf.Tensor(0.9929271, shape=(), dtype=float32)]2025-03-09 00:41:56.867983: W tensorflow/core/framework/local_rendezvous.cc:404] Local rendezvous is aborting with status: OUT_OF_RANGE: End of sequence\n",
      "Epoch 57/100: 100%|██████████| 1/1 [00:05<00:00,  5.67s/batch, loss=tf.Tensor(0.9929271, shape=(), dtype=float32)]\n"
     ]
    },
    {
     "name": "stdout",
     "output_type": "stream",
     "text": [
      "Epoch 57/100, Mean Loss: 0.99293, Time: 5.67s\n"
     ]
    },
    {
     "name": "stderr",
     "output_type": "stream",
     "text": [
      "Epoch 58/100: 100%|██████████| 1/1 [00:05<00:00,  5.90s/batch, loss=tf.Tensor(1.0173854, shape=(), dtype=float32)]2025-03-09 00:42:03.599135: W tensorflow/core/framework/local_rendezvous.cc:404] Local rendezvous is aborting with status: OUT_OF_RANGE: End of sequence\n",
      "Epoch 58/100: 100%|██████████| 1/1 [00:05<00:00,  5.90s/batch, loss=tf.Tensor(1.0173854, shape=(), dtype=float32)]\n"
     ]
    },
    {
     "name": "stdout",
     "output_type": "stream",
     "text": [
      "Epoch 58/100, Mean Loss: 1.01739, Time: 5.90s\n"
     ]
    },
    {
     "name": "stderr",
     "output_type": "stream",
     "text": [
      "Epoch 59/100: 100%|██████████| 1/1 [00:04<00:00,  4.12s/batch, loss=tf.Tensor(0.99998146, shape=(), dtype=float32)]2025-03-09 00:42:08.547280: W tensorflow/core/framework/local_rendezvous.cc:404] Local rendezvous is aborting with status: OUT_OF_RANGE: End of sequence\n",
      "Epoch 59/100: 100%|██████████| 1/1 [00:04<00:00,  4.12s/batch, loss=tf.Tensor(0.99998146, shape=(), dtype=float32)]\n"
     ]
    },
    {
     "name": "stdout",
     "output_type": "stream",
     "text": [
      "Epoch 59/100, Mean Loss: 0.99998, Time: 4.12s\n"
     ]
    },
    {
     "name": "stderr",
     "output_type": "stream",
     "text": [
      "Epoch 60/100: 100%|██████████| 1/1 [00:03<00:00,  3.55s/batch, loss=tf.Tensor(0.9993719, shape=(), dtype=float32)]2025-03-09 00:42:12.651282: W tensorflow/core/framework/local_rendezvous.cc:404] Local rendezvous is aborting with status: OUT_OF_RANGE: End of sequence\n",
      "Epoch 60/100: 100%|██████████| 1/1 [00:03<00:00,  3.55s/batch, loss=tf.Tensor(0.9993719, shape=(), dtype=float32)]\n"
     ]
    },
    {
     "name": "stdout",
     "output_type": "stream",
     "text": [
      "Epoch 60/100, Mean Loss: 0.99937, Time: 3.55s\n"
     ]
    },
    {
     "name": "stderr",
     "output_type": "stream",
     "text": [
      "Epoch 61/100: 100%|██████████| 1/1 [00:03<00:00,  3.59s/batch, loss=tf.Tensor(1.0235579, shape=(), dtype=float32)]2025-03-09 00:42:16.889755: W tensorflow/core/framework/local_rendezvous.cc:404] Local rendezvous is aborting with status: OUT_OF_RANGE: End of sequence\n",
      "Epoch 61/100: 100%|██████████| 1/1 [00:03<00:00,  3.59s/batch, loss=tf.Tensor(1.0235579, shape=(), dtype=float32)]\n"
     ]
    },
    {
     "name": "stdout",
     "output_type": "stream",
     "text": [
      "Epoch 61/100, Mean Loss: 1.02356, Time: 3.59s\n"
     ]
    },
    {
     "name": "stderr",
     "output_type": "stream",
     "text": [
      "Epoch 62/100: 100%|██████████| 1/1 [00:03<00:00,  3.44s/batch, loss=tf.Tensor(0.99363023, shape=(), dtype=float32)]2025-03-09 00:42:20.881785: W tensorflow/core/framework/local_rendezvous.cc:404] Local rendezvous is aborting with status: OUT_OF_RANGE: End of sequence\n",
      "Epoch 62/100: 100%|██████████| 1/1 [00:03<00:00,  3.44s/batch, loss=tf.Tensor(0.99363023, shape=(), dtype=float32)]\n"
     ]
    },
    {
     "name": "stdout",
     "output_type": "stream",
     "text": [
      "Epoch 62/100, Mean Loss: 0.99363, Time: 3.44s\n"
     ]
    },
    {
     "name": "stderr",
     "output_type": "stream",
     "text": [
      "Epoch 63/100: 100%|██████████| 1/1 [00:03<00:00,  3.52s/batch, loss=tf.Tensor(1.0062792, shape=(), dtype=float32)]2025-03-09 00:42:25.058611: W tensorflow/core/framework/local_rendezvous.cc:404] Local rendezvous is aborting with status: OUT_OF_RANGE: End of sequence\n",
      "Epoch 63/100: 100%|██████████| 1/1 [00:03<00:00,  3.52s/batch, loss=tf.Tensor(1.0062792, shape=(), dtype=float32)]\n"
     ]
    },
    {
     "name": "stdout",
     "output_type": "stream",
     "text": [
      "Epoch 63/100, Mean Loss: 1.00628, Time: 3.52s\n"
     ]
    },
    {
     "name": "stderr",
     "output_type": "stream",
     "text": [
      "Epoch 64/100: 100%|██████████| 1/1 [00:03<00:00,  3.63s/batch, loss=tf.Tensor(0.9968877, shape=(), dtype=float32)]2025-03-09 00:42:29.243963: W tensorflow/core/framework/local_rendezvous.cc:404] Local rendezvous is aborting with status: OUT_OF_RANGE: End of sequence\n",
      "Epoch 64/100: 100%|██████████| 1/1 [00:03<00:00,  3.63s/batch, loss=tf.Tensor(0.9968877, shape=(), dtype=float32)]\n"
     ]
    },
    {
     "name": "stdout",
     "output_type": "stream",
     "text": [
      "Epoch 64/100, Mean Loss: 0.99689, Time: 3.63s\n"
     ]
    },
    {
     "name": "stderr",
     "output_type": "stream",
     "text": [
      "Epoch 65/100: 100%|██████████| 1/1 [00:03<00:00,  3.63s/batch, loss=tf.Tensor(0.99211, shape=(), dtype=float32)]2025-03-09 00:42:33.434875: W tensorflow/core/framework/local_rendezvous.cc:404] Local rendezvous is aborting with status: OUT_OF_RANGE: End of sequence\n",
      "Epoch 65/100: 100%|██████████| 1/1 [00:03<00:00,  3.63s/batch, loss=tf.Tensor(0.99211, shape=(), dtype=float32)]\n"
     ]
    },
    {
     "name": "stdout",
     "output_type": "stream",
     "text": [
      "Epoch 65/100, Mean Loss: 0.99211, Time: 3.63s\n"
     ]
    },
    {
     "name": "stderr",
     "output_type": "stream",
     "text": [
      "Epoch 66/100: 100%|██████████| 1/1 [00:03<00:00,  3.47s/batch, loss=tf.Tensor(1.013488, shape=(), dtype=float32)]2025-03-09 00:42:37.466010: W tensorflow/core/framework/local_rendezvous.cc:404] Local rendezvous is aborting with status: OUT_OF_RANGE: End of sequence\n",
      "Epoch 66/100: 100%|██████████| 1/1 [00:03<00:00,  3.47s/batch, loss=tf.Tensor(1.013488, shape=(), dtype=float32)]\n"
     ]
    },
    {
     "name": "stdout",
     "output_type": "stream",
     "text": [
      "Epoch 66/100, Mean Loss: 1.01349, Time: 3.47s\n"
     ]
    },
    {
     "name": "stderr",
     "output_type": "stream",
     "text": [
      "Epoch 67/100: 100%|██████████| 1/1 [00:03<00:00,  3.51s/batch, loss=tf.Tensor(0.9965618, shape=(), dtype=float32)]2025-03-09 00:42:41.643115: W tensorflow/core/framework/local_rendezvous.cc:404] Local rendezvous is aborting with status: OUT_OF_RANGE: End of sequence\n",
      "Epoch 67/100: 100%|██████████| 1/1 [00:03<00:00,  3.51s/batch, loss=tf.Tensor(0.9965618, shape=(), dtype=float32)]\n"
     ]
    },
    {
     "name": "stdout",
     "output_type": "stream",
     "text": [
      "Epoch 67/100, Mean Loss: 0.99656, Time: 3.51s\n"
     ]
    },
    {
     "name": "stderr",
     "output_type": "stream",
     "text": [
      "Epoch 68/100: 100%|██████████| 1/1 [00:03<00:00,  3.47s/batch, loss=tf.Tensor(0.98230904, shape=(), dtype=float32)]2025-03-09 00:42:45.783265: W tensorflow/core/framework/local_rendezvous.cc:404] Local rendezvous is aborting with status: OUT_OF_RANGE: End of sequence\n",
      "Epoch 68/100: 100%|██████████| 1/1 [00:03<00:00,  3.47s/batch, loss=tf.Tensor(0.98230904, shape=(), dtype=float32)]\n"
     ]
    },
    {
     "name": "stdout",
     "output_type": "stream",
     "text": [
      "Epoch 68/100, Mean Loss: 0.98231, Time: 3.47s\n"
     ]
    },
    {
     "name": "stderr",
     "output_type": "stream",
     "text": [
      "Epoch 69/100: 100%|██████████| 1/1 [00:03<00:00,  3.47s/batch, loss=tf.Tensor(0.99501586, shape=(), dtype=float32)]2025-03-09 00:42:49.792460: W tensorflow/core/framework/local_rendezvous.cc:404] Local rendezvous is aborting with status: OUT_OF_RANGE: End of sequence\n",
      "Epoch 69/100: 100%|██████████| 1/1 [00:03<00:00,  3.47s/batch, loss=tf.Tensor(0.99501586, shape=(), dtype=float32)]\n"
     ]
    },
    {
     "name": "stdout",
     "output_type": "stream",
     "text": [
      "Epoch 69/100, Mean Loss: 0.99502, Time: 3.47s\n"
     ]
    },
    {
     "name": "stderr",
     "output_type": "stream",
     "text": [
      "Epoch 70/100: 100%|██████████| 1/1 [00:03<00:00,  3.57s/batch, loss=tf.Tensor(1.0146335, shape=(), dtype=float32)]2025-03-09 00:42:54.007263: W tensorflow/core/framework/local_rendezvous.cc:404] Local rendezvous is aborting with status: OUT_OF_RANGE: End of sequence\n",
      "Epoch 70/100: 100%|██████████| 1/1 [00:03<00:00,  3.57s/batch, loss=tf.Tensor(1.0146335, shape=(), dtype=float32)]\n"
     ]
    },
    {
     "name": "stdout",
     "output_type": "stream",
     "text": [
      "Epoch 70/100, Mean Loss: 1.01463, Time: 3.57s\n"
     ]
    },
    {
     "name": "stderr",
     "output_type": "stream",
     "text": [
      "Epoch 71/100: 100%|██████████| 1/1 [00:03<00:00,  3.52s/batch, loss=tf.Tensor(1.0118208, shape=(), dtype=float32)]2025-03-09 00:42:58.088521: W tensorflow/core/framework/local_rendezvous.cc:404] Local rendezvous is aborting with status: OUT_OF_RANGE: End of sequence\n",
      "Epoch 71/100: 100%|██████████| 1/1 [00:03<00:00,  3.52s/batch, loss=tf.Tensor(1.0118208, shape=(), dtype=float32)]\n"
     ]
    },
    {
     "name": "stdout",
     "output_type": "stream",
     "text": [
      "Epoch 71/100, Mean Loss: 1.01182, Time: 3.52s\n"
     ]
    },
    {
     "name": "stderr",
     "output_type": "stream",
     "text": [
      "Epoch 72/100: 100%|██████████| 1/1 [00:03<00:00,  3.76s/batch, loss=tf.Tensor(1.0111651, shape=(), dtype=float32)]2025-03-09 00:43:02.396099: W tensorflow/core/framework/local_rendezvous.cc:404] Local rendezvous is aborting with status: OUT_OF_RANGE: End of sequence\n",
      "Epoch 72/100: 100%|██████████| 1/1 [00:03<00:00,  3.76s/batch, loss=tf.Tensor(1.0111651, shape=(), dtype=float32)]\n"
     ]
    },
    {
     "name": "stdout",
     "output_type": "stream",
     "text": [
      "Epoch 72/100, Mean Loss: 1.01117, Time: 3.76s\n"
     ]
    },
    {
     "name": "stderr",
     "output_type": "stream",
     "text": [
      "Epoch 73/100: 100%|██████████| 1/1 [00:03<00:00,  3.46s/batch, loss=tf.Tensor(1.005902, shape=(), dtype=float32)]2025-03-09 00:43:06.439034: W tensorflow/core/framework/local_rendezvous.cc:404] Local rendezvous is aborting with status: OUT_OF_RANGE: End of sequence\n",
      "Epoch 73/100: 100%|██████████| 1/1 [00:03<00:00,  3.47s/batch, loss=tf.Tensor(1.005902, shape=(), dtype=float32)]\n"
     ]
    },
    {
     "name": "stdout",
     "output_type": "stream",
     "text": [
      "Epoch 73/100, Mean Loss: 1.00590, Time: 3.47s\n"
     ]
    },
    {
     "name": "stderr",
     "output_type": "stream",
     "text": [
      "Epoch 74/100: 100%|██████████| 1/1 [00:03<00:00,  3.58s/batch, loss=tf.Tensor(1.0076623, shape=(), dtype=float32)]2025-03-09 00:43:10.565417: W tensorflow/core/framework/local_rendezvous.cc:404] Local rendezvous is aborting with status: OUT_OF_RANGE: End of sequence\n",
      "Epoch 74/100: 100%|██████████| 1/1 [00:03<00:00,  3.58s/batch, loss=tf.Tensor(1.0076623, shape=(), dtype=float32)]\n"
     ]
    },
    {
     "name": "stdout",
     "output_type": "stream",
     "text": [
      "Epoch 74/100, Mean Loss: 1.00766, Time: 3.58s\n"
     ]
    },
    {
     "name": "stderr",
     "output_type": "stream",
     "text": [
      "Epoch 75/100: 100%|██████████| 1/1 [00:03<00:00,  3.54s/batch, loss=tf.Tensor(1.0176542, shape=(), dtype=float32)]2025-03-09 00:43:14.776527: W tensorflow/core/framework/local_rendezvous.cc:404] Local rendezvous is aborting with status: OUT_OF_RANGE: End of sequence\n",
      "Epoch 75/100: 100%|██████████| 1/1 [00:03<00:00,  3.55s/batch, loss=tf.Tensor(1.0176542, shape=(), dtype=float32)]\n"
     ]
    },
    {
     "name": "stdout",
     "output_type": "stream",
     "text": [
      "Epoch 75/100, Mean Loss: 1.01765, Time: 3.55s\n"
     ]
    },
    {
     "name": "stderr",
     "output_type": "stream",
     "text": [
      "Epoch 76/100: 100%|██████████| 1/1 [00:03<00:00,  3.48s/batch, loss=tf.Tensor(0.9751485, shape=(), dtype=float32)]2025-03-09 00:43:18.814373: W tensorflow/core/framework/local_rendezvous.cc:404] Local rendezvous is aborting with status: OUT_OF_RANGE: End of sequence\n",
      "Epoch 76/100: 100%|██████████| 1/1 [00:03<00:00,  3.48s/batch, loss=tf.Tensor(0.9751485, shape=(), dtype=float32)]\n"
     ]
    },
    {
     "name": "stdout",
     "output_type": "stream",
     "text": [
      "Epoch 76/100, Mean Loss: 0.97515, Time: 3.48s\n"
     ]
    },
    {
     "name": "stderr",
     "output_type": "stream",
     "text": [
      "Epoch 77/100: 100%|██████████| 1/1 [00:03<00:00,  3.56s/batch, loss=tf.Tensor(0.9842496, shape=(), dtype=float32)]2025-03-09 00:43:23.028073: W tensorflow/core/framework/local_rendezvous.cc:404] Local rendezvous is aborting with status: OUT_OF_RANGE: End of sequence\n",
      "Epoch 77/100: 100%|██████████| 1/1 [00:03<00:00,  3.56s/batch, loss=tf.Tensor(0.9842496, shape=(), dtype=float32)]\n"
     ]
    },
    {
     "name": "stdout",
     "output_type": "stream",
     "text": [
      "Epoch 77/100, Mean Loss: 0.98425, Time: 3.56s\n"
     ]
    },
    {
     "name": "stderr",
     "output_type": "stream",
     "text": [
      "Epoch 78/100: 100%|██████████| 1/1 [00:03<00:00,  3.51s/batch, loss=tf.Tensor(0.9968643, shape=(), dtype=float32)]2025-03-09 00:43:27.114230: W tensorflow/core/framework/local_rendezvous.cc:404] Local rendezvous is aborting with status: OUT_OF_RANGE: End of sequence\n",
      "Epoch 78/100: 100%|██████████| 1/1 [00:03<00:00,  3.51s/batch, loss=tf.Tensor(0.9968643, shape=(), dtype=float32)]\n"
     ]
    },
    {
     "name": "stdout",
     "output_type": "stream",
     "text": [
      "Epoch 78/100, Mean Loss: 0.99686, Time: 3.52s\n"
     ]
    },
    {
     "name": "stderr",
     "output_type": "stream",
     "text": [
      "Epoch 79/100: 100%|██████████| 1/1 [00:03<00:00,  3.49s/batch, loss=tf.Tensor(1.0043219, shape=(), dtype=float32)]2025-03-09 00:43:31.266004: W tensorflow/core/framework/local_rendezvous.cc:404] Local rendezvous is aborting with status: OUT_OF_RANGE: End of sequence\n",
      "Epoch 79/100: 100%|██████████| 1/1 [00:03<00:00,  3.49s/batch, loss=tf.Tensor(1.0043219, shape=(), dtype=float32)]\n"
     ]
    },
    {
     "name": "stdout",
     "output_type": "stream",
     "text": [
      "Epoch 79/100, Mean Loss: 1.00432, Time: 3.49s\n"
     ]
    },
    {
     "name": "stderr",
     "output_type": "stream",
     "text": [
      "Epoch 80/100: 100%|██████████| 1/1 [00:03<00:00,  3.51s/batch, loss=tf.Tensor(0.9829563, shape=(), dtype=float32)]2025-03-09 00:43:35.469825: W tensorflow/core/framework/local_rendezvous.cc:404] Local rendezvous is aborting with status: OUT_OF_RANGE: End of sequence\n",
      "Epoch 80/100: 100%|██████████| 1/1 [00:03<00:00,  3.51s/batch, loss=tf.Tensor(0.9829563, shape=(), dtype=float32)]\n"
     ]
    },
    {
     "name": "stdout",
     "output_type": "stream",
     "text": [
      "Epoch 80/100, Mean Loss: 0.98296, Time: 3.51s\n"
     ]
    },
    {
     "name": "stderr",
     "output_type": "stream",
     "text": [
      "Epoch 81/100: 100%|██████████| 1/1 [00:03<00:00,  3.59s/batch, loss=tf.Tensor(1.0049014, shape=(), dtype=float32)]2025-03-09 00:43:39.611495: W tensorflow/core/framework/local_rendezvous.cc:404] Local rendezvous is aborting with status: OUT_OF_RANGE: End of sequence\n",
      "Epoch 81/100: 100%|██████████| 1/1 [00:03<00:00,  3.59s/batch, loss=tf.Tensor(1.0049014, shape=(), dtype=float32)]\n"
     ]
    },
    {
     "name": "stdout",
     "output_type": "stream",
     "text": [
      "Epoch 81/100, Mean Loss: 1.00490, Time: 3.59s\n"
     ]
    },
    {
     "name": "stderr",
     "output_type": "stream",
     "text": [
      "Epoch 82/100: 100%|██████████| 1/1 [00:03<00:00,  3.49s/batch, loss=tf.Tensor(1.0233445, shape=(), dtype=float32)]2025-03-09 00:43:43.653106: W tensorflow/core/framework/local_rendezvous.cc:404] Local rendezvous is aborting with status: OUT_OF_RANGE: End of sequence\n",
      "Epoch 82/100: 100%|██████████| 1/1 [00:03<00:00,  3.49s/batch, loss=tf.Tensor(1.0233445, shape=(), dtype=float32)]\n"
     ]
    },
    {
     "name": "stdout",
     "output_type": "stream",
     "text": [
      "Epoch 82/100, Mean Loss: 1.02334, Time: 3.49s\n"
     ]
    },
    {
     "name": "stderr",
     "output_type": "stream",
     "text": [
      "Epoch 83/100: 100%|██████████| 1/1 [00:03<00:00,  3.69s/batch, loss=tf.Tensor(0.9856804, shape=(), dtype=float32)]2025-03-09 00:43:47.900969: W tensorflow/core/framework/local_rendezvous.cc:404] Local rendezvous is aborting with status: OUT_OF_RANGE: End of sequence\n",
      "Epoch 83/100: 100%|██████████| 1/1 [00:03<00:00,  3.69s/batch, loss=tf.Tensor(0.9856804, shape=(), dtype=float32)]\n"
     ]
    },
    {
     "name": "stdout",
     "output_type": "stream",
     "text": [
      "Epoch 83/100, Mean Loss: 0.98568, Time: 3.69s\n"
     ]
    },
    {
     "name": "stderr",
     "output_type": "stream",
     "text": [
      "Epoch 84/100: 100%|██████████| 1/1 [00:03<00:00,  3.48s/batch, loss=tf.Tensor(1.0004852, shape=(), dtype=float32)]2025-03-09 00:43:51.942840: W tensorflow/core/framework/local_rendezvous.cc:404] Local rendezvous is aborting with status: OUT_OF_RANGE: End of sequence\n",
      "Epoch 84/100: 100%|██████████| 1/1 [00:03<00:00,  3.48s/batch, loss=tf.Tensor(1.0004852, shape=(), dtype=float32)]\n"
     ]
    },
    {
     "name": "stdout",
     "output_type": "stream",
     "text": [
      "Epoch 84/100, Mean Loss: 1.00049, Time: 3.48s\n"
     ]
    },
    {
     "name": "stderr",
     "output_type": "stream",
     "text": [
      "Epoch 85/100: 100%|██████████| 1/1 [00:03<00:00,  3.58s/batch, loss=tf.Tensor(1.0052011, shape=(), dtype=float32)]2025-03-09 00:43:56.078598: W tensorflow/core/framework/local_rendezvous.cc:404] Local rendezvous is aborting with status: OUT_OF_RANGE: End of sequence\n",
      "Epoch 85/100: 100%|██████████| 1/1 [00:03<00:00,  3.58s/batch, loss=tf.Tensor(1.0052011, shape=(), dtype=float32)]\n"
     ]
    },
    {
     "name": "stdout",
     "output_type": "stream",
     "text": [
      "Epoch 85/100, Mean Loss: 1.00520, Time: 3.58s\n"
     ]
    },
    {
     "name": "stderr",
     "output_type": "stream",
     "text": [
      "Epoch 86/100: 100%|██████████| 1/1 [00:03<00:00,  3.59s/batch, loss=tf.Tensor(0.9960957, shape=(), dtype=float32)]2025-03-09 00:44:00.237604: W tensorflow/core/framework/local_rendezvous.cc:404] Local rendezvous is aborting with status: OUT_OF_RANGE: End of sequence\n",
      "Epoch 86/100: 100%|██████████| 1/1 [00:03<00:00,  3.59s/batch, loss=tf.Tensor(0.9960957, shape=(), dtype=float32)]\n"
     ]
    },
    {
     "name": "stdout",
     "output_type": "stream",
     "text": [
      "Epoch 86/100, Mean Loss: 0.99610, Time: 3.59s\n"
     ]
    },
    {
     "name": "stderr",
     "output_type": "stream",
     "text": [
      "Epoch 87/100: 100%|██████████| 1/1 [00:03<00:00,  3.46s/batch, loss=tf.Tensor(0.9777199, shape=(), dtype=float32)]2025-03-09 00:44:04.258614: W tensorflow/core/framework/local_rendezvous.cc:404] Local rendezvous is aborting with status: OUT_OF_RANGE: End of sequence\n",
      "Epoch 87/100: 100%|██████████| 1/1 [00:03<00:00,  3.46s/batch, loss=tf.Tensor(0.9777199, shape=(), dtype=float32)]\n"
     ]
    },
    {
     "name": "stdout",
     "output_type": "stream",
     "text": [
      "Epoch 87/100, Mean Loss: 0.97772, Time: 3.46s\n"
     ]
    },
    {
     "name": "stderr",
     "output_type": "stream",
     "text": [
      "Epoch 88/100: 100%|██████████| 1/1 [00:03<00:00,  3.46s/batch, loss=tf.Tensor(1.0058395, shape=(), dtype=float32)]2025-03-09 00:44:08.379725: W tensorflow/core/framework/local_rendezvous.cc:404] Local rendezvous is aborting with status: OUT_OF_RANGE: End of sequence\n",
      "Epoch 88/100: 100%|██████████| 1/1 [00:03<00:00,  3.46s/batch, loss=tf.Tensor(1.0058395, shape=(), dtype=float32)]\n"
     ]
    },
    {
     "name": "stdout",
     "output_type": "stream",
     "text": [
      "Epoch 88/100, Mean Loss: 1.00584, Time: 3.46s\n"
     ]
    },
    {
     "name": "stderr",
     "output_type": "stream",
     "text": [
      "Epoch 89/100: 100%|██████████| 1/1 [00:03<00:00,  3.56s/batch, loss=tf.Tensor(0.9938993, shape=(), dtype=float32)]2025-03-09 00:44:12.622584: W tensorflow/core/framework/local_rendezvous.cc:404] Local rendezvous is aborting with status: OUT_OF_RANGE: End of sequence\n",
      "Epoch 89/100: 100%|██████████| 1/1 [00:03<00:00,  3.56s/batch, loss=tf.Tensor(0.9938993, shape=(), dtype=float32)]\n"
     ]
    },
    {
     "name": "stdout",
     "output_type": "stream",
     "text": [
      "Epoch 89/100, Mean Loss: 0.99390, Time: 3.57s\n"
     ]
    },
    {
     "name": "stderr",
     "output_type": "stream",
     "text": [
      "Epoch 90/100: 100%|██████████| 1/1 [00:03<00:00,  3.89s/batch, loss=tf.Tensor(0.98547345, shape=(), dtype=float32)]2025-03-09 00:44:17.130312: W tensorflow/core/framework/local_rendezvous.cc:404] Local rendezvous is aborting with status: OUT_OF_RANGE: End of sequence\n",
      "Epoch 90/100: 100%|██████████| 1/1 [00:03<00:00,  3.89s/batch, loss=tf.Tensor(0.98547345, shape=(), dtype=float32)]\n"
     ]
    },
    {
     "name": "stdout",
     "output_type": "stream",
     "text": [
      "Epoch 90/100, Mean Loss: 0.98547, Time: 3.89s\n"
     ]
    },
    {
     "name": "stderr",
     "output_type": "stream",
     "text": [
      "Epoch 91/100: 100%|██████████| 1/1 [00:03<00:00,  3.64s/batch, loss=tf.Tensor(1.0127906, shape=(), dtype=float32)]2025-03-09 00:44:21.349780: W tensorflow/core/framework/local_rendezvous.cc:404] Local rendezvous is aborting with status: OUT_OF_RANGE: End of sequence\n",
      "Epoch 91/100: 100%|██████████| 1/1 [00:03<00:00,  3.64s/batch, loss=tf.Tensor(1.0127906, shape=(), dtype=float32)]\n"
     ]
    },
    {
     "name": "stdout",
     "output_type": "stream",
     "text": [
      "Epoch 91/100, Mean Loss: 1.01279, Time: 3.64s\n"
     ]
    },
    {
     "name": "stderr",
     "output_type": "stream",
     "text": [
      "Epoch 92/100: 100%|██████████| 1/1 [00:03<00:00,  3.61s/batch, loss=tf.Tensor(1.005068, shape=(), dtype=float32)]2025-03-09 00:44:25.533698: W tensorflow/core/framework/local_rendezvous.cc:404] Local rendezvous is aborting with status: OUT_OF_RANGE: End of sequence\n",
      "Epoch 92/100: 100%|██████████| 1/1 [00:03<00:00,  3.61s/batch, loss=tf.Tensor(1.005068, shape=(), dtype=float32)]\n"
     ]
    },
    {
     "name": "stdout",
     "output_type": "stream",
     "text": [
      "Epoch 92/100, Mean Loss: 1.00507, Time: 3.61s\n"
     ]
    },
    {
     "name": "stderr",
     "output_type": "stream",
     "text": [
      "Epoch 93/100: 100%|██████████| 1/1 [00:03<00:00,  3.51s/batch, loss=tf.Tensor(1.0041248, shape=(), dtype=float32)]2025-03-09 00:44:29.736213: W tensorflow/core/framework/local_rendezvous.cc:404] Local rendezvous is aborting with status: OUT_OF_RANGE: End of sequence\n",
      "Epoch 93/100: 100%|██████████| 1/1 [00:03<00:00,  3.51s/batch, loss=tf.Tensor(1.0041248, shape=(), dtype=float32)]\n"
     ]
    },
    {
     "name": "stdout",
     "output_type": "stream",
     "text": [
      "Epoch 93/100, Mean Loss: 1.00412, Time: 3.51s\n"
     ]
    },
    {
     "name": "stderr",
     "output_type": "stream",
     "text": [
      "Epoch 94/100: 100%|██████████| 1/1 [00:03<00:00,  3.47s/batch, loss=tf.Tensor(0.9883563, shape=(), dtype=float32)]2025-03-09 00:44:33.768786: W tensorflow/core/framework/local_rendezvous.cc:404] Local rendezvous is aborting with status: OUT_OF_RANGE: End of sequence\n",
      "Epoch 94/100: 100%|██████████| 1/1 [00:03<00:00,  3.47s/batch, loss=tf.Tensor(0.9883563, shape=(), dtype=float32)]\n"
     ]
    },
    {
     "name": "stdout",
     "output_type": "stream",
     "text": [
      "Epoch 94/100, Mean Loss: 0.98836, Time: 3.47s\n"
     ]
    },
    {
     "name": "stderr",
     "output_type": "stream",
     "text": [
      "Epoch 95/100: 100%|██████████| 1/1 [00:03<00:00,  3.49s/batch, loss=tf.Tensor(1.0146661, shape=(), dtype=float32)]2025-03-09 00:44:38.044495: W tensorflow/core/framework/local_rendezvous.cc:404] Local rendezvous is aborting with status: OUT_OF_RANGE: End of sequence\n",
      "Epoch 95/100: 100%|██████████| 1/1 [00:03<00:00,  3.49s/batch, loss=tf.Tensor(1.0146661, shape=(), dtype=float32)]\n"
     ]
    },
    {
     "name": "stdout",
     "output_type": "stream",
     "text": [
      "Epoch 95/100, Mean Loss: 1.01467, Time: 3.49s\n"
     ]
    },
    {
     "name": "stderr",
     "output_type": "stream",
     "text": [
      "Epoch 96/100: 100%|██████████| 1/1 [00:03<00:00,  3.52s/batch, loss=tf.Tensor(1.0086299, shape=(), dtype=float32)]2025-03-09 00:44:42.121645: W tensorflow/core/framework/local_rendezvous.cc:404] Local rendezvous is aborting with status: OUT_OF_RANGE: End of sequence\n",
      "Epoch 96/100: 100%|██████████| 1/1 [00:03<00:00,  3.52s/batch, loss=tf.Tensor(1.0086299, shape=(), dtype=float32)]\n"
     ]
    },
    {
     "name": "stdout",
     "output_type": "stream",
     "text": [
      "Epoch 96/100, Mean Loss: 1.00863, Time: 3.52s\n"
     ]
    },
    {
     "name": "stderr",
     "output_type": "stream",
     "text": [
      "Epoch 97/100: 100%|██████████| 1/1 [00:03<00:00,  3.60s/batch, loss=tf.Tensor(0.997702, shape=(), dtype=float32)]2025-03-09 00:44:46.277038: W tensorflow/core/framework/local_rendezvous.cc:404] Local rendezvous is aborting with status: OUT_OF_RANGE: End of sequence\n",
      "Epoch 97/100: 100%|██████████| 1/1 [00:03<00:00,  3.60s/batch, loss=tf.Tensor(0.997702, shape=(), dtype=float32)]\n"
     ]
    },
    {
     "name": "stdout",
     "output_type": "stream",
     "text": [
      "Epoch 97/100, Mean Loss: 0.99770, Time: 3.60s\n"
     ]
    },
    {
     "name": "stderr",
     "output_type": "stream",
     "text": [
      "Epoch 98/100: 100%|██████████| 1/1 [00:03<00:00,  3.48s/batch, loss=tf.Tensor(0.9998348, shape=(), dtype=float32)]2025-03-09 00:44:50.431029: W tensorflow/core/framework/local_rendezvous.cc:404] Local rendezvous is aborting with status: OUT_OF_RANGE: End of sequence\n",
      "Epoch 98/100: 100%|██████████| 1/1 [00:03<00:00,  3.49s/batch, loss=tf.Tensor(0.9998348, shape=(), dtype=float32)]\n"
     ]
    },
    {
     "name": "stdout",
     "output_type": "stream",
     "text": [
      "Epoch 98/100, Mean Loss: 0.99983, Time: 3.49s\n"
     ]
    },
    {
     "name": "stderr",
     "output_type": "stream",
     "text": [
      "Epoch 99/100: 100%|██████████| 1/1 [00:03<00:00,  3.43s/batch, loss=tf.Tensor(1.0027864, shape=(), dtype=float32)]2025-03-09 00:44:54.425628: W tensorflow/core/framework/local_rendezvous.cc:404] Local rendezvous is aborting with status: OUT_OF_RANGE: End of sequence\n",
      "Epoch 99/100: 100%|██████████| 1/1 [00:03<00:00,  3.44s/batch, loss=tf.Tensor(1.0027864, shape=(), dtype=float32)]\n"
     ]
    },
    {
     "name": "stdout",
     "output_type": "stream",
     "text": [
      "Epoch 99/100, Mean Loss: 1.00279, Time: 3.44s\n"
     ]
    },
    {
     "name": "stderr",
     "output_type": "stream",
     "text": [
      "Epoch 100/100: 100%|██████████| 1/1 [00:03<00:00,  3.54s/batch, loss=tf.Tensor(0.99201006, shape=(), dtype=float32)]2025-03-09 00:44:58.623955: W tensorflow/core/framework/local_rendezvous.cc:404] Local rendezvous is aborting with status: OUT_OF_RANGE: End of sequence\n",
      "Epoch 100/100: 100%|██████████| 1/1 [00:03<00:00,  3.54s/batch, loss=tf.Tensor(0.99201006, shape=(), dtype=float32)]\n"
     ]
    },
    {
     "name": "stdout",
     "output_type": "stream",
     "text": [
      "Epoch 100/100, Mean Loss: 0.99201, Time: 3.54s\n"
     ]
    }
   ],
   "source": [
    "train.train()"
   ]
  },
  {
   "cell_type": "code",
   "execution_count": null,
   "metadata": {},
   "outputs": [],
   "source": []
  }
 ],
 "metadata": {
  "kernelspec": {
   "display_name": "base",
   "language": "python",
   "name": "python3"
  },
  "language_info": {
   "codemirror_mode": {
    "name": "ipython",
    "version": 3
   },
   "file_extension": ".py",
   "mimetype": "text/x-python",
   "name": "python",
   "nbconvert_exporter": "python",
   "pygments_lexer": "ipython3",
   "version": "3.12.3"
  }
 },
 "nbformat": 4,
 "nbformat_minor": 2
}
